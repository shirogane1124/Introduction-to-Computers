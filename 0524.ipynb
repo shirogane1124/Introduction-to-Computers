{
  "nbformat": 4,
  "nbformat_minor": 0,
  "metadata": {
    "colab": {
      "provenance": [],
      "include_colab_link": true
    },
    "kernelspec": {
      "name": "python3",
      "display_name": "Python 3"
    },
    "language_info": {
      "name": "python"
    }
  },
  "cells": [
    {
      "cell_type": "markdown",
      "metadata": {
        "id": "view-in-github",
        "colab_type": "text"
      },
      "source": [
        "<a href=\"https://colab.research.google.com/github/shirogane1124/Introduction-to-Computers/blob/main/0524.ipynb\" target=\"_parent\"><img src=\"https://colab.research.google.com/assets/colab-badge.svg\" alt=\"Open In Colab\"/></a>"
      ]
    },
    {
      "cell_type": "code",
      "execution_count": 1,
      "metadata": {
        "id": "Q7JLxjLS-5cW"
      },
      "outputs": [],
      "source": [
        "list1 = range(0,9)"
      ]
    },
    {
      "cell_type": "code",
      "source": [
        "list(list1)"
      ],
      "metadata": {
        "colab": {
          "base_uri": "https://localhost:8080/"
        },
        "id": "sGlxr0Kw_kGo",
        "outputId": "ea3876c3-1a9c-4da4-ee23-9221c348548b"
      },
      "execution_count": 2,
      "outputs": [
        {
          "output_type": "execute_result",
          "data": {
            "text/plain": [
              "[0, 1, 2, 3, 4, 5, 6, 7, 8]"
            ]
          },
          "metadata": {},
          "execution_count": 2
        }
      ]
    },
    {
      "cell_type": "code",
      "source": [
        "list2 = range(1,10)"
      ],
      "metadata": {
        "id": "M-Ggs01v_0y9"
      },
      "execution_count": 3,
      "outputs": []
    },
    {
      "cell_type": "code",
      "source": [
        "list(list2)"
      ],
      "metadata": {
        "colab": {
          "base_uri": "https://localhost:8080/"
        },
        "id": "JdEeHQtP_1Gg",
        "outputId": "9f7648a0-1b9d-4939-e341-e2361849a1a7"
      },
      "execution_count": 4,
      "outputs": [
        {
          "output_type": "execute_result",
          "data": {
            "text/plain": [
              "[1, 2, 3, 4, 5, 6, 7, 8, 9]"
            ]
          },
          "metadata": {},
          "execution_count": 4
        }
      ]
    },
    {
      "cell_type": "code",
      "source": [
        "list3 = range(1,10,2)"
      ],
      "metadata": {
        "id": "9nh5Cmv8_-5V"
      },
      "execution_count": 5,
      "outputs": []
    },
    {
      "cell_type": "code",
      "source": [
        "list(list3)"
      ],
      "metadata": {
        "colab": {
          "base_uri": "https://localhost:8080/"
        },
        "id": "CbYTLjP2_-8z",
        "outputId": "4d5da76b-2cb2-48ed-e9a3-f3ea0598e352"
      },
      "execution_count": 6,
      "outputs": [
        {
          "output_type": "execute_result",
          "data": {
            "text/plain": [
              "[1, 3, 5, 7, 9]"
            ]
          },
          "metadata": {},
          "execution_count": 6
        }
      ]
    },
    {
      "cell_type": "code",
      "source": [
        "list4 = range(10,1,-2)"
      ],
      "metadata": {
        "id": "osKqC6LkAdW4"
      },
      "execution_count": 7,
      "outputs": []
    },
    {
      "cell_type": "code",
      "source": [
        "list(list4)"
      ],
      "metadata": {
        "colab": {
          "base_uri": "https://localhost:8080/"
        },
        "id": "mp0njWVzAdZR",
        "outputId": "11c1c455-f07b-4bee-866d-49510f564b81"
      },
      "execution_count": 8,
      "outputs": [
        {
          "output_type": "execute_result",
          "data": {
            "text/plain": [
              "[10, 8, 6, 4, 2]"
            ]
          },
          "metadata": {},
          "execution_count": 8
        }
      ]
    },
    {
      "cell_type": "code",
      "source": [
        "n = int(input(\"请输入一个正整数：\"))\n",
        "numbers = list(range(1, n+1))\n",
        "\n",
        "for num in numbers:\n",
        "    print(num, end=\" \")"
      ],
      "metadata": {
        "colab": {
          "base_uri": "https://localhost:8080/"
        },
        "id": "GjdCRO0t__Er",
        "outputId": "94ea2eb4-ee14-49bb-b5f6-603600d603c2"
      },
      "execution_count": 9,
      "outputs": [
        {
          "output_type": "stream",
          "name": "stdout",
          "text": [
            "请输入一个正整数：5\n",
            "1 2 3 4 5 "
          ]
        }
      ]
    },
    {
      "cell_type": "code",
      "source": [
        "n = int(input(\"请输入一个正整数：\"))\n",
        "numbers = list(range(1, n+1))\n",
        "\n",
        "for num in numbers:\n",
        "    print(num, end=\" \")"
      ],
      "metadata": {
        "colab": {
          "base_uri": "https://localhost:8080/"
        },
        "id": "aaqj7KtAChuw",
        "outputId": "9899191b-4e2a-458e-aef8-d23c8c9a3e3f"
      },
      "execution_count": 10,
      "outputs": [
        {
          "output_type": "stream",
          "name": "stdout",
          "text": [
            "请输入一个正整数：5\n",
            "1 2 3 4 5 "
          ]
        }
      ]
    },
    {
      "cell_type": "code",
      "source": [
        "n = int(input(\"请输入一个正整数：\"))\n",
        "numbers = list(range(1, n+1))\n",
        "sum=0\n",
        "for n in range(1,n+1):\n",
        "  sum=sum+n\n",
        "print(\"1到\",n,\"的正整數和為\",sum)\n"
      ],
      "metadata": {
        "colab": {
          "base_uri": "https://localhost:8080/"
        },
        "id": "Yj1F2wZADWML",
        "outputId": "bcb886e6-4658-4b55-bc4a-24d887040cda"
      },
      "execution_count": 11,
      "outputs": [
        {
          "output_type": "stream",
          "name": "stdout",
          "text": [
            "请输入一个正整数：5\n",
            "1到 5 的正整數和為 15\n"
          ]
        }
      ]
    },
    {
      "cell_type": "code",
      "source": [
        "n = int(input(\"请输入一个正整数：\"))\n",
        "numbers = list(range(1, n+1))\n",
        "sum=0\n",
        "for n in range(1,n+1):\n",
        "  sum=sum+n\n",
        "print(\"1到\",n,\"的正整數和為\",sum)\n"
      ],
      "metadata": {
        "colab": {
          "base_uri": "https://localhost:8080/"
        },
        "id": "roBdsgoBEps2",
        "outputId": "ec1f57c9-e28b-4181-ce2f-fcab30b66638"
      },
      "execution_count": 12,
      "outputs": [
        {
          "output_type": "stream",
          "name": "stdout",
          "text": [
            "请输入一个正整数：5\n",
            "1到 5 的正整數和為 15\n"
          ]
        }
      ]
    },
    {
      "cell_type": "code",
      "source": [
        "n = int(input(\"请输入一个正整数：\"))\n",
        "\n",
        "total = 0\n",
        "for i in range(1, n+1):\n",
        "    total += i\n",
        "    print(\"1到\", i, \"的正整数和为\", total)"
      ],
      "metadata": {
        "colab": {
          "base_uri": "https://localhost:8080/"
        },
        "id": "dP7sCuJYGLY9",
        "outputId": "3e93b25e-1521-4996-c51a-b024488992df"
      },
      "execution_count": 13,
      "outputs": [
        {
          "output_type": "stream",
          "name": "stdout",
          "text": [
            "请输入一个正整数：5\n",
            "1到 1 的正整数和为 1\n",
            "1到 2 的正整数和为 3\n",
            "1到 3 的正整数和为 6\n",
            "1到 4 的正整数和为 10\n",
            "1到 5 的正整数和为 15\n"
          ]
        }
      ]
    }
  ]
}