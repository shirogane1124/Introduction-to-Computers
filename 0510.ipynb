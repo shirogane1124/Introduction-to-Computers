{
  "nbformat": 4,
  "nbformat_minor": 0,
  "metadata": {
    "colab": {
      "provenance": [],
      "authorship_tag": "ABX9TyNUFmAtKTFVC2aKF5ZRyd1r",
      "include_colab_link": true
    },
    "kernelspec": {
      "name": "python3",
      "display_name": "Python 3"
    },
    "language_info": {
      "name": "python"
    }
  },
  "cells": [
    {
      "cell_type": "markdown",
      "metadata": {
        "id": "view-in-github",
        "colab_type": "text"
      },
      "source": [
        "<a href=\"https://colab.research.google.com/github/shirogane1124/Introduction-to-Computers/blob/main/0510.ipynb\" target=\"_parent\"><img src=\"https://colab.research.google.com/assets/colab-badge.svg\" alt=\"Open In Colab\"/></a>"
      ]
    },
    {
      "cell_type": "code",
      "source": [
        "password = int(input(\"請輸入密碼:\"))\n",
        "if password == 1234:\n",
        "  print(\"密碼正確\")"
      ],
      "metadata": {
        "colab": {
          "base_uri": "https://localhost:8080/"
        },
        "id": "smQDPXbg6_1u",
        "outputId": "9978ad27-d6f3-447f-9be5-a45173c16d41"
      },
      "execution_count": 9,
      "outputs": [
        {
          "output_type": "stream",
          "name": "stdout",
          "text": [
            "請輸入密碼:1234\n",
            "密碼正確\n"
          ]
        }
      ]
    },
    {
      "cell_type": "code",
      "source": [
        "password = int(input(\"請輸入密碼:\"))\n",
        "if password == 1234:\n",
        "  print(\"密碼正確\")\n",
        "else:\n",
        "  print(\"密碼不正確\")"
      ],
      "metadata": {
        "colab": {
          "base_uri": "https://localhost:8080/"
        },
        "id": "WBgleE_S3kpw",
        "outputId": "ce207c1b-771d-4f25-e5d3-a4566f152117"
      },
      "execution_count": 3,
      "outputs": [
        {
          "output_type": "stream",
          "name": "stdout",
          "text": [
            "請輸入密碼:65465\n",
            "密碼不正確\n"
          ]
        }
      ]
    },
    {
      "cell_type": "code",
      "execution_count": 2,
      "metadata": {
        "colab": {
          "base_uri": "https://localhost:8080/"
        },
        "id": "QxC_Exhl1vBN",
        "outputId": "c45f2947-18b1-4531-e05d-5a424e5fa1f5"
      },
    {
      "cell_type": "code",
      "source": [
        "rain = str(input(\"請輸入y或n:\"))\n",
        "if(rain==\"Y\" or rain==\"y\"):\n",
        "  print(\"出門記得帶傘\")\n",
        "else:\n",
        "  print(\"不用帶傘\")"
      ],
      "metadata": {
        "colab": {
          "base_uri": "https://localhost:8080/"
        },
        "id": "ZpH9Qlwt6U6Z",
        "outputId": "0d326dad-1fbe-4f6c-83be-b6a1837ac1ce"
      },
      "execution_count": 11,
      "outputs": [
        {
          "output_type": "stream",
          "name": "stdout",
          "text": [
            "請輸入y或n:n\n",
            "不用帶傘\n"
          ]
        }
      ]
    },
    {
      "cell_type": "code",
      "source": [
        "num = int(input(\"請輸入數字:\"))\n",
        "if (num % 2) == 0:\n",
        "  print(\"{0}是偶數\".format(num))\n",
        "else:\n",
        "  print(\"{0}是奇數\".format(num))"
      ],
      "metadata": {
        "colab": {
          "base_uri": "https://localhost:8080/"
        },
        "id": "qW_rOE0I5n9j",
        "outputId": "9950c92d-a4f2-4e13-88e7-999b0b77bbad"
      },
      "execution_count": 7,
      "outputs": [
        {
          "output_type": "stream",
          "name": "stdout",
          "text": [
            "請樹入數字:13\n",
            "13是奇數\n"
          ]
        }
      ]
    }
  ]
}
