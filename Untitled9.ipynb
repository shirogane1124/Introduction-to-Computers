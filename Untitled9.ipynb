{
  "nbformat": 4,
  "nbformat_minor": 0,
  "metadata": {
    "colab": {
      "provenance": [],
      "include_colab_link": true
    },
    "kernelspec": {
      "name": "python3",
      "display_name": "Python 3"
    },
    "language_info": {
      "name": "python"
    }
  },
  "cells": [
    {
      "cell_type": "markdown",
      "metadata": {
        "id": "view-in-github",
        "colab_type": "text"
      },
      "source": [
        "<a href=\"https://colab.research.google.com/github/shirogane1124/Introduction-to-Computers/blob/main/Untitled9.ipynb\" target=\"_parent\"><img src=\"https://colab.research.google.com/assets/colab-badge.svg\" alt=\"Open In Colab\"/></a>"
      ]
    },
    {
      "cell_type": "code",
      "execution_count": 4,
      "metadata": {
        "colab": {
          "base_uri": "https://localhost:8080/"
        },
        "id": "qpxhXAjlzd7U",
        "outputId": "38a7d1c2-3954-4b2d-9c67-dffe6eb1b10e"
      },
      "outputs": [
        {
          "output_type": "stream",
          "name": "stdout",
          "text": [
            "score:49\n",
            "Grade is: F\n"
          ]
        }
      ],
      "source": [
        "score=int(input(\"score:\"))\n",
        "if score >=90:\n",
        "  print('Grade is: A')\n",
        "elif score >= 80:\n",
        "  print('Grade is: B')\n",
        "\n",
        "elif score >= 70:\n",
        "  print('Grade is: C')\n",
        "\n",
        "elif score >= 60:\n",
        "  print('Grade is: D')\n",
        "else:\n",
        "  print(\"Grade is: F\")\n"
      ]
    },
    {
      "cell_type": "code",
      "source": [
        "成績=int(input(\"成績:\"))\n",
        "if 成績 >=90:\n",
        "  print('A')\n",
        "elif 89>= 成績 >=80:\n",
        "  print('B')\n",
        "elif 79>= 成績 >=70:\n",
        "  print('C')\n",
        "elif 69>= 成績 >=60:\n",
        "  print('D')\n",
        "else:\n",
        "  print(\"E\")"
      ],
      "metadata": {
        "colab": {
          "base_uri": "https://localhost:8080/"
        },
        "id": "n2z8BEhcDmkX",
        "outputId": "ad426e4a-df76-4ef2-e92f-62d5512587dc"
      },
      "execution_count": 3,
      "outputs": [
        {
          "output_type": "stream",
          "name": "stdout",
          "text": [
            "成績:58\n",
            "E\n"
          ]
        }
      ]
    },
    {
      "cell_type": "code",
      "source": [
        "體溫=int(input(\"體溫:\"))\n",
        "if 體溫 >=37.5:\n",
        "  print('體溫 is too high')\n",
        "elif 37.4>= 體溫 >=37:\n",
        "  print('體溫略高')\n",
        "elif 36.9>= 體溫 >=34:\n",
        "  print('體溫正常')\n",
        "else:\n",
        "  print(\"體溫異常，請重新測量\")"
      ],
      "metadata": {
        "colab": {
          "base_uri": "https://localhost:8080/"
        },
        "id": "6HRjmbD_1L_q",
        "outputId": "6749b134-90fe-4aec-abcf-88a8206643dd"
      },
      "execution_count": 2,
      "outputs": [
        {
          "output_type": "stream",
          "name": "stdout",
          "text": [
            "體溫:65\n",
            "體溫 is too high\n"
          ]
        }
      ]
    },
    {
      "cell_type": "code",
      "source": [
        "month = int(input(\"請輸入月份：\"))\n",
        "\n",
        "if month in [3, 4, 5]:\n",
        "    print(month, \"月是春天！\")\n",
        "elif month in [6, 7, 8]:\n",
        "    print(month, \"月是夏天！\")\n",
        "elif month in [9, 10, 11]:\n",
        "    print(month, \"月是秋天！\")\n",
        "elif month in [12, 1, 2]:\n",
        "    print(month, \"月是冬天！\")\n",
        "else:\n",
        "    print(\"月份不在範圍內！\")\n",
        "\n"
      ],
      "metadata": {
        "colab": {
          "base_uri": "https://localhost:8080/"
        },
        "id": "NFaC15HU7Uc6",
        "outputId": "6882bf95-9d59-4545-e12e-d1f9b9388a97"
      },
      "execution_count": 1,
      "outputs": [
        {
          "output_type": "stream",
          "name": "stdout",
          "text": [
            "請輸入月份：5\n",
            "5 月是春天！\n"
          ]
        }
      ]
    },
    {
      "cell_type": "code",
      "source": [
        "收入=int(input(\"收入:\"))\n",
        "if 收入 >=2000000:\n",
        "  print(\"付稅金額:\",收入*0.3,\"元\")\n",
        "elif 1999999>= 收入 >=1000000:\n",
        "  print(\"付稅金額:\",收入*0.21,\"元\")\n",
        "elif 999999>= 收入 >=600000:\n",
        "  print(\"付稅金額:\",收入*0.13,\"元\")\n",
        "elif 599999>= 收入 >=300000:\n",
        "  print(\"付稅金額:\",收入*0.06,\"元\")\n",
        "else:\n",
        "  print(\"付稅金額:0元\")"
      ],
      "metadata": {
        "colab": {
          "base_uri": "https://localhost:8080/"
        },
        "id": "T5dw5fsy-ief",
        "outputId": "52c25504-d4cb-4724-e911-b3eafac37441"
      },
      "execution_count": 5,
      "outputs": [
        {
          "output_type": "stream",
          "name": "stdout",
          "text": [
            "收入:8888888\n",
            "付稅金額: 2666666.4 元\n"
          ]
        }
      ]
    },
    {
      "cell_type": "code",
      "source": [
        "rain = input(\"是否有下雨: \")\n",
        "\n",
        "if rain == \"Y\" or rain == \"y\":\n",
        "    print(\"出門記得帶傘\")\n",
        "elif rain == \"N\" or rain == \"n\":\n",
        "    print(\"不用帶傘\")\n",
        "else:\n",
        "    print(\"請重新輸入\")"
      ],
      "metadata": {
        "colab": {
          "base_uri": "https://localhost:8080/"
        },
        "id": "ydUYDMAdBRqQ",
        "outputId": "6776dc89-75b2-40ea-9753-ef26d7fae2eb"
      },
      "execution_count": 6,
      "outputs": [
        {
          "output_type": "stream",
          "name": "stdout",
          "text": [
            "是否有下雨: 6\n",
            "請重新輸入\n"
          ]
        }
      ]
    }
  ]
}