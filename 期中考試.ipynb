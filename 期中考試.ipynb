{
  "nbformat": 4,
  "nbformat_minor": 0,
  "metadata": {
    "colab": {
      "provenance": [],
      "authorship_tag": "ABX9TyO8WPqYIuaHFQ2m7DGHi48V",
      "include_colab_link": true
    },
    "kernelspec": {
      "name": "python3",
      "display_name": "Python 3"
    },
    "language_info": {
      "name": "python"
    }
  },
  "cells": [
    {
      "cell_type": "markdown",
      "metadata": {
        "id": "view-in-github",
        "colab_type": "text"
      },
      "source": [
        "<a href=\"https://colab.research.google.com/github/shirogane1124/Introduction-to-Computers/blob/main/%E6%9C%9F%E4%B8%AD%E8%80%83%E8%A9%A6.ipynb\" target=\"_parent\"><img src=\"https://colab.research.google.com/assets/colab-badge.svg\" alt=\"Open In Colab\"/></a>"
      ]
    },
    {
      "cell_type": "code",
      "execution_count": 1,
      "metadata": {
        "colab": {
          "base_uri": "https://localhost:8080/"
        },
        "id": "zvU_ZaReHyYW",
        "outputId": "3ec8ef78-30d4-4bf2-fd43-fb920e26117c"
      },
      "outputs": [
        {
          "output_type": "stream",
          "name": "stdout",
          "text": [
            "50\n",
            "1280\n"
          ]
        }
      ],
      "source": [
        "a=int(input())\n",
        "for i in range(10,a+1):\n",
        "  a += i\n",
        "print(a)"
      ]
    },
    {
      "cell_type": "code",
      "source": [
        "h,w=input().split()\n",
        "a=int(h)\n",
        "b=int(w)\n",
        "c=a/100\n",
        "bmi=b/c**2\n",
        "print(\"%.2f\" % bmi)"
      ],
      "metadata": {
        "colab": {
          "base_uri": "https://localhost:8080/"
        },
        "id": "yM6YPgTpIKMq",
        "outputId": "c6274c4b-6d29-4385-caa5-881b99d61ceb"
      },
      "execution_count": 2,
      "outputs": [
        {
          "output_type": "stream",
          "name": "stdout",
          "text": [
            "180 70\n",
            "21.60\n"
          ]
        }
      ]
    },
    {
      "cell_type": "code",
      "source": [
        "a=input()\n",
        "print(len(a))"
      ],
      "metadata": {
        "colab": {
          "base_uri": "https://localhost:8080/"
        },
        "id": "L4oZ8q2VIKRd",
        "outputId": "1b98a0c7-aea6-4e47-8244-9f39ec9d8673"
      },
      "execution_count": 4,
      "outputs": [
        {
          "output_type": "stream",
          "name": "stdout",
          "text": [
            "hello\n",
            "5\n"
          ]
        }
      ]
    },
    {
      "cell_type": "code",
      "source": [
        "a=input()\n",
        "print(a)"
      ],
      "metadata": {
        "colab": {
          "base_uri": "https://localhost:8080/"
        },
        "id": "vA8U0OvKIKmK",
        "outputId": "31081705-b987-419f-a85c-fa520edb6404"
      },
      "execution_count": 5,
      "outputs": [
        {
          "output_type": "stream",
          "name": "stdout",
          "text": [
            "nick\n",
            "nick\n"
          ]
        }
      ]
    }
  ]
}